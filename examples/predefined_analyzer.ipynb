{
 "cells": [
  {
   "cell_type": "markdown",
   "metadata": {},
   "source": [
    "# Using a pre-defined analyzer"
   ]
  },
  {
   "cell_type": "markdown",
   "metadata": {},
   "source": [
    "This example will show you how to use one of the pre-configured analyzers provided by sfgad.\n",
    "\n",
    "For this, we will create an example dataset, select one of the pre-defined analyzers, train it on several iterations of the dataset, evaluate it on the last iteration and use an aggregative step to extract the most anomalous subgraph from it."
   ]
  },
  {
   "cell_type": "markdown",
   "metadata": {},
   "source": [
    "### Generate Example Dataset"
   ]
  },
  {
   "cell_type": "markdown",
   "metadata": {},
   "source": [
    "Before we select and train our analyzer, we need an exemplary dataset. For this, we use one of the generators that come with the framework.\n",
    "\n",
    "We generate a graphstream of $T = 30$ iterations with each iteration featuring the same $n = 100$ vertices. Further, the generator inserts $m = 500$ edges by randomly connecting vertices. Note, that this model does not allow loops or multiedges and generates an undirected graph."
   ]
  },
  {
   "cell_type": "code",
   "execution_count": 1,
   "metadata": {
    "collapsed": true
   },
   "outputs": [],
   "source": [
    "import pandas as pd\n",
    "import numpy as np\n",
    "import networkx as nx\n",
    "import datetime as dt"
   ]
  },
  {
   "cell_type": "code",
   "execution_count": 2,
   "metadata": {
    "collapsed": true
   },
   "outputs": [],
   "source": [
    "def generate_graph(n_vertices, n_edges, n_vertex_types):\n",
    "    graph = nx.gnm_random_graph(n_vertices, n_edges)\n",
    "    for v, data in graph.nodes(data=True):\n",
    "        data['type'] = v % n_vertex_types\n",
    "    for u, v, data in graph.edges(data=True):\n",
    "        data['type'] = str(graph.node[u]['type']) + '_' + str(graph.node[v]['type'])\n",
    "    return graph"
   ]
  },
  {
   "cell_type": "code",
   "execution_count": 3,
   "metadata": {
    "collapsed": true
   },
   "outputs": [],
   "source": [
    "DF_COLUMNS = ['TIMESTAMP', 'E_NAME', 'E_TYPE', 'SRC_NAME', 'SRC_TYPE', 'DST_NAME', 'DST_TYPE']\n",
    "\n",
    "def from_nx(network, timestep=0):\n",
    "    df = np.asarray([[dt.datetime.fromordinal(1).replace(year=2017) + dt.timedelta(days=timestep),\n",
    "                      data.get('name', str((i, j))),\n",
    "                      data.get('type', 'E_TYPE'),\n",
    "                      str(i),\n",
    "                      network.node[i].get('type', 'V_TYPE'),\n",
    "                      str(j),\n",
    "                      network.node[j].get('type', 'V_TYPE')] for (i, j, data) in network.edges(data=True)])\n",
    "    return pd.DataFrame(data=df, columns=DF_COLUMNS)"
   ]
  },
  {
   "cell_type": "code",
   "execution_count": 4,
   "metadata": {
    "collapsed": true
   },
   "outputs": [],
   "source": [
    "def create_dataset(n_vertices, n_edges, n_vertex_types, n_timesteps):         \n",
    "    return [from_nx(generate_graph(n_vertices, n_edges, n_vertex_types), timestep=i) for i in range(n_timesteps)]"
   ]
  },
  {
   "cell_type": "code",
   "execution_count": 5,
   "metadata": {
    "collapsed": false
   },
   "outputs": [],
   "source": [
    "graph_stream = create_dataset(n_vertices=100, n_edges=500, n_vertex_types=3, n_timesteps=30)"
   ]
  },
  {
   "cell_type": "markdown",
   "metadata": {},
   "source": [
    "### Initialize Analyzer"
   ]
  },
  {
   "cell_type": "markdown",
   "metadata": {},
   "source": [
    "To use a pre-configured analyzer, we need to import the algorithms module.\n",
    "\n",
    "This module provides several existing graph-based anomaly detection approaches. For our example, we will use the DAPA-V10 algorithm. It relies on the vertex degree as a feature and assumes a gaussian distribution for estimate the probability of the current state."
   ]
  },
  {
   "cell_type": "code",
   "execution_count": 6,
   "metadata": {
    "collapsed": true
   },
   "outputs": [],
   "source": [
    "from sfgad import algorithms\n",
    "\n",
    "analyzer = algorithms.dapa(n_jobs=1)"
   ]
  },
  {
   "cell_type": "markdown",
   "metadata": {},
   "source": [
    "### Analyze Graphstream"
   ]
  },
  {
   "cell_type": "markdown",
   "metadata": {},
   "source": [
    "In order to gain significant insight about the probability of the current state of a vertex, we need a sufficient amount of obsverations as comparison.\n",
    "\n",
    "Since we are interested in analyzing the last iteration of the graphstream, we fit the analyzer on all but the last iteration. "
   ]
  },
  {
   "cell_type": "code",
   "execution_count": 7,
   "metadata": {
    "collapsed": false
   },
   "outputs": [],
   "source": [
    "for g in graph_stream[:-1]:\n",
    "    analyzer.fit_transform(g)"
   ]
  },
  {
   "cell_type": "markdown",
   "metadata": {},
   "source": [
    "Following, we evaluate the last iteration using the fitted analyzer."
   ]
  },
  {
   "cell_type": "code",
   "execution_count": 8,
   "metadata": {
    "collapsed": false
   },
   "outputs": [],
   "source": [
    "result = analyzer.fit_transform(graph_stream[-1])"
   ]
  },
  {
   "cell_type": "markdown",
   "metadata": {},
   "source": [
    "The results show p-values ranging between 0 and 1."
   ]
  },
  {
   "cell_type": "code",
   "execution_count": 9,
   "metadata": {
    "collapsed": false,
    "scrolled": true
   },
   "outputs": [
    {
     "data": {
      "text/html": [
       "<div>\n",
       "<style scoped>\n",
       "    .dataframe tbody tr th:only-of-type {\n",
       "        vertical-align: middle;\n",
       "    }\n",
       "\n",
       "    .dataframe tbody tr th {\n",
       "        vertical-align: top;\n",
       "    }\n",
       "\n",
       "    .dataframe thead th {\n",
       "        text-align: right;\n",
       "    }\n",
       "</style>\n",
       "<table border=\"1\" class=\"dataframe\">\n",
       "  <thead>\n",
       "    <tr style=\"text-align: right;\">\n",
       "      <th></th>\n",
       "      <th>name</th>\n",
       "      <th>time_window</th>\n",
       "      <th>p_value</th>\n",
       "    </tr>\n",
       "  </thead>\n",
       "  <tbody>\n",
       "    <tr>\n",
       "      <th>17</th>\n",
       "      <td>17</td>\n",
       "      <td>29</td>\n",
       "      <td>0.031243</td>\n",
       "    </tr>\n",
       "    <tr>\n",
       "      <th>41</th>\n",
       "      <td>41</td>\n",
       "      <td>29</td>\n",
       "      <td>0.041766</td>\n",
       "    </tr>\n",
       "    <tr>\n",
       "      <th>62</th>\n",
       "      <td>62</td>\n",
       "      <td>29</td>\n",
       "      <td>0.053797</td>\n",
       "    </tr>\n",
       "    <tr>\n",
       "      <th>87</th>\n",
       "      <td>88</td>\n",
       "      <td>29</td>\n",
       "      <td>0.063193</td>\n",
       "    </tr>\n",
       "    <tr>\n",
       "      <th>55</th>\n",
       "      <td>55</td>\n",
       "      <td>29</td>\n",
       "      <td>0.074539</td>\n",
       "    </tr>\n",
       "    <tr>\n",
       "      <th>28</th>\n",
       "      <td>28</td>\n",
       "      <td>29</td>\n",
       "      <td>0.078837</td>\n",
       "    </tr>\n",
       "    <tr>\n",
       "      <th>36</th>\n",
       "      <td>36</td>\n",
       "      <td>29</td>\n",
       "      <td>0.096292</td>\n",
       "    </tr>\n",
       "    <tr>\n",
       "      <th>12</th>\n",
       "      <td>12</td>\n",
       "      <td>29</td>\n",
       "      <td>0.100281</td>\n",
       "    </tr>\n",
       "    <tr>\n",
       "      <th>1</th>\n",
       "      <td>1</td>\n",
       "      <td>29</td>\n",
       "      <td>0.102407</td>\n",
       "    </tr>\n",
       "    <tr>\n",
       "      <th>26</th>\n",
       "      <td>26</td>\n",
       "      <td>29</td>\n",
       "      <td>0.121813</td>\n",
       "    </tr>\n",
       "    <tr>\n",
       "      <th>52</th>\n",
       "      <td>52</td>\n",
       "      <td>29</td>\n",
       "      <td>0.127887</td>\n",
       "    </tr>\n",
       "    <tr>\n",
       "      <th>42</th>\n",
       "      <td>42</td>\n",
       "      <td>29</td>\n",
       "      <td>0.136602</td>\n",
       "    </tr>\n",
       "    <tr>\n",
       "      <th>33</th>\n",
       "      <td>33</td>\n",
       "      <td>29</td>\n",
       "      <td>0.144113</td>\n",
       "    </tr>\n",
       "    <tr>\n",
       "      <th>93</th>\n",
       "      <td>99</td>\n",
       "      <td>29</td>\n",
       "      <td>0.145661</td>\n",
       "    </tr>\n",
       "    <tr>\n",
       "      <th>86</th>\n",
       "      <td>87</td>\n",
       "      <td>29</td>\n",
       "      <td>0.161931</td>\n",
       "    </tr>\n",
       "    <tr>\n",
       "      <th>15</th>\n",
       "      <td>15</td>\n",
       "      <td>29</td>\n",
       "      <td>0.162908</td>\n",
       "    </tr>\n",
       "    <tr>\n",
       "      <th>47</th>\n",
       "      <td>47</td>\n",
       "      <td>29</td>\n",
       "      <td>0.162969</td>\n",
       "    </tr>\n",
       "    <tr>\n",
       "      <th>58</th>\n",
       "      <td>58</td>\n",
       "      <td>29</td>\n",
       "      <td>0.168175</td>\n",
       "    </tr>\n",
       "    <tr>\n",
       "      <th>5</th>\n",
       "      <td>5</td>\n",
       "      <td>29</td>\n",
       "      <td>0.179013</td>\n",
       "    </tr>\n",
       "    <tr>\n",
       "      <th>45</th>\n",
       "      <td>45</td>\n",
       "      <td>29</td>\n",
       "      <td>0.193744</td>\n",
       "    </tr>\n",
       "    <tr>\n",
       "      <th>72</th>\n",
       "      <td>72</td>\n",
       "      <td>29</td>\n",
       "      <td>0.196094</td>\n",
       "    </tr>\n",
       "    <tr>\n",
       "      <th>82</th>\n",
       "      <td>83</td>\n",
       "      <td>29</td>\n",
       "      <td>0.197034</td>\n",
       "    </tr>\n",
       "    <tr>\n",
       "      <th>16</th>\n",
       "      <td>16</td>\n",
       "      <td>29</td>\n",
       "      <td>0.207076</td>\n",
       "    </tr>\n",
       "    <tr>\n",
       "      <th>97</th>\n",
       "      <td>97</td>\n",
       "      <td>29</td>\n",
       "      <td>0.208488</td>\n",
       "    </tr>\n",
       "    <tr>\n",
       "      <th>37</th>\n",
       "      <td>37</td>\n",
       "      <td>29</td>\n",
       "      <td>0.211913</td>\n",
       "    </tr>\n",
       "    <tr>\n",
       "      <th>66</th>\n",
       "      <td>66</td>\n",
       "      <td>29</td>\n",
       "      <td>0.227696</td>\n",
       "    </tr>\n",
       "    <tr>\n",
       "      <th>83</th>\n",
       "      <td>84</td>\n",
       "      <td>29</td>\n",
       "      <td>0.228157</td>\n",
       "    </tr>\n",
       "    <tr>\n",
       "      <th>9</th>\n",
       "      <td>9</td>\n",
       "      <td>29</td>\n",
       "      <td>0.230213</td>\n",
       "    </tr>\n",
       "    <tr>\n",
       "      <th>20</th>\n",
       "      <td>20</td>\n",
       "      <td>29</td>\n",
       "      <td>0.242661</td>\n",
       "    </tr>\n",
       "    <tr>\n",
       "      <th>57</th>\n",
       "      <td>57</td>\n",
       "      <td>29</td>\n",
       "      <td>0.245656</td>\n",
       "    </tr>\n",
       "    <tr>\n",
       "      <th>...</th>\n",
       "      <td>...</td>\n",
       "      <td>...</td>\n",
       "      <td>...</td>\n",
       "    </tr>\n",
       "    <tr>\n",
       "      <th>94</th>\n",
       "      <td>94</td>\n",
       "      <td>29</td>\n",
       "      <td>0.669616</td>\n",
       "    </tr>\n",
       "    <tr>\n",
       "      <th>31</th>\n",
       "      <td>31</td>\n",
       "      <td>29</td>\n",
       "      <td>0.672545</td>\n",
       "    </tr>\n",
       "    <tr>\n",
       "      <th>84</th>\n",
       "      <td>85</td>\n",
       "      <td>29</td>\n",
       "      <td>0.696357</td>\n",
       "    </tr>\n",
       "    <tr>\n",
       "      <th>24</th>\n",
       "      <td>24</td>\n",
       "      <td>29</td>\n",
       "      <td>0.699056</td>\n",
       "    </tr>\n",
       "    <tr>\n",
       "      <th>65</th>\n",
       "      <td>65</td>\n",
       "      <td>29</td>\n",
       "      <td>0.702161</td>\n",
       "    </tr>\n",
       "    <tr>\n",
       "      <th>49</th>\n",
       "      <td>49</td>\n",
       "      <td>29</td>\n",
       "      <td>0.735680</td>\n",
       "    </tr>\n",
       "    <tr>\n",
       "      <th>27</th>\n",
       "      <td>27</td>\n",
       "      <td>29</td>\n",
       "      <td>0.742680</td>\n",
       "    </tr>\n",
       "    <tr>\n",
       "      <th>85</th>\n",
       "      <td>86</td>\n",
       "      <td>29</td>\n",
       "      <td>0.773464</td>\n",
       "    </tr>\n",
       "    <tr>\n",
       "      <th>77</th>\n",
       "      <td>78</td>\n",
       "      <td>29</td>\n",
       "      <td>0.796145</td>\n",
       "    </tr>\n",
       "    <tr>\n",
       "      <th>39</th>\n",
       "      <td>39</td>\n",
       "      <td>29</td>\n",
       "      <td>0.798758</td>\n",
       "    </tr>\n",
       "    <tr>\n",
       "      <th>23</th>\n",
       "      <td>23</td>\n",
       "      <td>29</td>\n",
       "      <td>0.834476</td>\n",
       "    </tr>\n",
       "    <tr>\n",
       "      <th>2</th>\n",
       "      <td>2</td>\n",
       "      <td>29</td>\n",
       "      <td>0.846909</td>\n",
       "    </tr>\n",
       "    <tr>\n",
       "      <th>10</th>\n",
       "      <td>10</td>\n",
       "      <td>29</td>\n",
       "      <td>0.871809</td>\n",
       "    </tr>\n",
       "    <tr>\n",
       "      <th>53</th>\n",
       "      <td>53</td>\n",
       "      <td>29</td>\n",
       "      <td>0.889690</td>\n",
       "    </tr>\n",
       "    <tr>\n",
       "      <th>21</th>\n",
       "      <td>21</td>\n",
       "      <td>29</td>\n",
       "      <td>0.904384</td>\n",
       "    </tr>\n",
       "    <tr>\n",
       "      <th>91</th>\n",
       "      <td>93</td>\n",
       "      <td>29</td>\n",
       "      <td>0.911274</td>\n",
       "    </tr>\n",
       "    <tr>\n",
       "      <th>7</th>\n",
       "      <td>7</td>\n",
       "      <td>29</td>\n",
       "      <td>0.915693</td>\n",
       "    </tr>\n",
       "    <tr>\n",
       "      <th>63</th>\n",
       "      <td>63</td>\n",
       "      <td>29</td>\n",
       "      <td>0.919363</td>\n",
       "    </tr>\n",
       "    <tr>\n",
       "      <th>25</th>\n",
       "      <td>25</td>\n",
       "      <td>29</td>\n",
       "      <td>0.919468</td>\n",
       "    </tr>\n",
       "    <tr>\n",
       "      <th>96</th>\n",
       "      <td>98</td>\n",
       "      <td>29</td>\n",
       "      <td>0.932204</td>\n",
       "    </tr>\n",
       "    <tr>\n",
       "      <th>13</th>\n",
       "      <td>13</td>\n",
       "      <td>29</td>\n",
       "      <td>0.953894</td>\n",
       "    </tr>\n",
       "    <tr>\n",
       "      <th>60</th>\n",
       "      <td>60</td>\n",
       "      <td>29</td>\n",
       "      <td>0.955792</td>\n",
       "    </tr>\n",
       "    <tr>\n",
       "      <th>90</th>\n",
       "      <td>92</td>\n",
       "      <td>29</td>\n",
       "      <td>0.964463</td>\n",
       "    </tr>\n",
       "    <tr>\n",
       "      <th>59</th>\n",
       "      <td>59</td>\n",
       "      <td>29</td>\n",
       "      <td>0.975113</td>\n",
       "    </tr>\n",
       "    <tr>\n",
       "      <th>0</th>\n",
       "      <td>0</td>\n",
       "      <td>29</td>\n",
       "      <td>0.979494</td>\n",
       "    </tr>\n",
       "    <tr>\n",
       "      <th>29</th>\n",
       "      <td>29</td>\n",
       "      <td>29</td>\n",
       "      <td>0.979658</td>\n",
       "    </tr>\n",
       "    <tr>\n",
       "      <th>68</th>\n",
       "      <td>68</td>\n",
       "      <td>29</td>\n",
       "      <td>0.993501</td>\n",
       "    </tr>\n",
       "    <tr>\n",
       "      <th>11</th>\n",
       "      <td>11</td>\n",
       "      <td>29</td>\n",
       "      <td>0.994086</td>\n",
       "    </tr>\n",
       "    <tr>\n",
       "      <th>92</th>\n",
       "      <td>95</td>\n",
       "      <td>29</td>\n",
       "      <td>0.995109</td>\n",
       "    </tr>\n",
       "    <tr>\n",
       "      <th>56</th>\n",
       "      <td>56</td>\n",
       "      <td>29</td>\n",
       "      <td>0.999370</td>\n",
       "    </tr>\n",
       "  </tbody>\n",
       "</table>\n",
       "<p>100 rows × 3 columns</p>\n",
       "</div>"
      ],
      "text/plain": [
       "   name  time_window   p_value\n",
       "17   17           29  0.031243\n",
       "41   41           29  0.041766\n",
       "62   62           29  0.053797\n",
       "87   88           29  0.063193\n",
       "55   55           29  0.074539\n",
       "28   28           29  0.078837\n",
       "36   36           29  0.096292\n",
       "12   12           29  0.100281\n",
       "1     1           29  0.102407\n",
       "26   26           29  0.121813\n",
       "52   52           29  0.127887\n",
       "42   42           29  0.136602\n",
       "33   33           29  0.144113\n",
       "93   99           29  0.145661\n",
       "86   87           29  0.161931\n",
       "15   15           29  0.162908\n",
       "47   47           29  0.162969\n",
       "58   58           29  0.168175\n",
       "5     5           29  0.179013\n",
       "45   45           29  0.193744\n",
       "72   72           29  0.196094\n",
       "82   83           29  0.197034\n",
       "16   16           29  0.207076\n",
       "97   97           29  0.208488\n",
       "37   37           29  0.211913\n",
       "66   66           29  0.227696\n",
       "83   84           29  0.228157\n",
       "9     9           29  0.230213\n",
       "20   20           29  0.242661\n",
       "57   57           29  0.245656\n",
       "..  ...          ...       ...\n",
       "94   94           29  0.669616\n",
       "31   31           29  0.672545\n",
       "84   85           29  0.696357\n",
       "24   24           29  0.699056\n",
       "65   65           29  0.702161\n",
       "49   49           29  0.735680\n",
       "27   27           29  0.742680\n",
       "85   86           29  0.773464\n",
       "77   78           29  0.796145\n",
       "39   39           29  0.798758\n",
       "23   23           29  0.834476\n",
       "2     2           29  0.846909\n",
       "10   10           29  0.871809\n",
       "53   53           29  0.889690\n",
       "21   21           29  0.904384\n",
       "91   93           29  0.911274\n",
       "7     7           29  0.915693\n",
       "63   63           29  0.919363\n",
       "25   25           29  0.919468\n",
       "96   98           29  0.932204\n",
       "13   13           29  0.953894\n",
       "60   60           29  0.955792\n",
       "90   92           29  0.964463\n",
       "59   59           29  0.975113\n",
       "0     0           29  0.979494\n",
       "29   29           29  0.979658\n",
       "68   68           29  0.993501\n",
       "11   11           29  0.994086\n",
       "92   95           29  0.995109\n",
       "56   56           29  0.999370\n",
       "\n",
       "[100 rows x 3 columns]"
      ]
     },
     "execution_count": 9,
     "metadata": {},
     "output_type": "execute_result"
    }
   ],
   "source": [
    "result.sort_values(by='p_value')"
   ]
  },
  {
   "cell_type": "markdown",
   "metadata": {},
   "source": [
    "Further, we can see that the p-values roughly follow a uniform dsitribution, as we would expect."
   ]
  },
  {
   "cell_type": "code",
   "execution_count": 10,
   "metadata": {
    "collapsed": false
   },
   "outputs": [
    {
     "data": {
      "text/plain": [
       "count    100.000000\n",
       "mean       0.480085\n",
       "std        0.299781\n",
       "min        0.031243\n",
       "10%        0.127279\n",
       "20%        0.195624\n",
       "30%        0.254904\n",
       "40%        0.333833\n",
       "50%        0.395100\n",
       "60%        0.551872\n",
       "70%        0.666600\n",
       "80%        0.805902\n",
       "90%        0.934373\n",
       "max        0.999370\n",
       "Name: p_value, dtype: float64"
      ]
     },
     "execution_count": 10,
     "metadata": {},
     "output_type": "execute_result"
    }
   ],
   "source": [
    "result['p_value'].describe([0.1, 0.2, 0.3, 0.4, 0.5, 0.6, 0.7, 0.8, 0.9])"
   ]
  },
  {
   "cell_type": "markdown",
   "metadata": {},
   "source": [
    "### Extract Most Anomalous Subgraph"
   ]
  },
  {
   "cell_type": "markdown",
   "metadata": {},
   "source": [
    "To extract the most anomalous (connected) subgraph, we use approaches from the aggregation module. These provide the vertices that are part of the anomaly and a score indicating its degree of anomalousness.\n",
    "\n",
    "For our example, we use the NPHGS graph-scan with a significance threshold $\\alpha_{max} = 0.2$ and $K = 5$ seed vertices."
   ]
  },
  {
   "cell_type": "code",
   "execution_count": 11,
   "metadata": {
    "collapsed": false
   },
   "outputs": [],
   "source": [
    "from sfgad.aggregation import graph_scan\n",
    "\n",
    "detected_vertices, score = graph_scan.scan(graph_stream[-1], result, alpha_max=0.2, K=5)"
   ]
  },
  {
   "cell_type": "markdown",
   "metadata": {},
   "source": [
    "Linking the extracted vertices back to its p-values shows that are all below the singificance threshold $\\alpha_{max}$.\n",
    "\n",
    "Further, we can see that some vertices with lower p-values are not included in the extracted subgraph. This stems from the fact that they are not connected through edges to the subgraph. Vertices with higher p-values are not included since they would decrease the score of the anomaly."
   ]
  },
  {
   "cell_type": "code",
   "execution_count": 12,
   "metadata": {
    "collapsed": false
   },
   "outputs": [
    {
     "data": {
      "text/html": [
       "<div>\n",
       "<style scoped>\n",
       "    .dataframe tbody tr th:only-of-type {\n",
       "        vertical-align: middle;\n",
       "    }\n",
       "\n",
       "    .dataframe tbody tr th {\n",
       "        vertical-align: top;\n",
       "    }\n",
       "\n",
       "    .dataframe thead th {\n",
       "        text-align: right;\n",
       "    }\n",
       "</style>\n",
       "<table border=\"1\" class=\"dataframe\">\n",
       "  <thead>\n",
       "    <tr style=\"text-align: right;\">\n",
       "      <th></th>\n",
       "      <th>name</th>\n",
       "      <th>time_window</th>\n",
       "      <th>p_value</th>\n",
       "    </tr>\n",
       "  </thead>\n",
       "  <tbody>\n",
       "    <tr>\n",
       "      <th>55</th>\n",
       "      <td>55</td>\n",
       "      <td>29</td>\n",
       "      <td>0.074539</td>\n",
       "    </tr>\n",
       "    <tr>\n",
       "      <th>12</th>\n",
       "      <td>12</td>\n",
       "      <td>29</td>\n",
       "      <td>0.100281</td>\n",
       "    </tr>\n",
       "  </tbody>\n",
       "</table>\n",
       "</div>"
      ],
      "text/plain": [
       "   name  time_window   p_value\n",
       "55   55           29  0.074539\n",
       "12   12           29  0.100281"
      ]
     },
     "execution_count": 12,
     "metadata": {},
     "output_type": "execute_result"
    }
   ],
   "source": [
    "result[result['name'].isin(detected_vertices)].sort_values('p_value')"
   ]
  }
 ],
 "metadata": {
  "kernelspec": {
   "display_name": "Python 3",
   "language": "python",
   "name": "python3"
  },
  "language_info": {
   "codemirror_mode": {
    "name": "ipython",
    "version": 3
   },
   "file_extension": ".py",
   "mimetype": "text/x-python",
   "name": "python",
   "nbconvert_exporter": "python",
   "pygments_lexer": "ipython3",
   "version": "3.5.2"
  }
 },
 "nbformat": 4,
 "nbformat_minor": 0
}
